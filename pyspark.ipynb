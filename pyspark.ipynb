{
 "cells": [
  {
   "cell_type": "code",
   "execution_count": 26,
   "id": "b1055252",
   "metadata": {
    "scrolled": false
   },
   "outputs": [
    {
     "name": "stdout",
     "output_type": "stream",
     "text": [
      "Данные конвертированы в csv формат\n",
      "Количество строк в df: 541909\n",
      "Количество униклальных клиентов в df: 4373\n",
      "Большинство покупок совершено в United Kingdom в количестве 495478 позиций\n",
      "Дата самой ранней покупки на платформе: 2010-12-01\n",
      "Дата самой последней покупки на платформе: 2011-12-09\n",
      "RFM-анализ клиентов проведён, данные записаны в папку 'result'\n"
     ]
    }
   ],
   "source": [
    "import pandas as pd\n",
    "import pyspark.sql.functions as F\n",
    "from pyspark.sql import SparkSession\n",
    "\n",
    "# Задача 1.\n",
    "# С помощью модуля pandas преобразуйте файл из .xlsx в .csv формат\n",
    "pd.read_excel('data/online_retail.xlsx').to_csv('data/online_retail.csv', index=False)\n",
    "print('Данные конвертированы в csv формат')\n",
    "\n",
    "# Задача 2.\n",
    "# Инициализируйте Spark-сессию\n",
    "spark = SparkSession.builder\\\n",
    "        .master(\"local[*]\")\\\n",
    "        .appName(\"SparkFirst\")\\\n",
    "        .config(\"spark.executor.memory\", \"6G\")\\\n",
    "        .config(\"spark.executor.cores\", 6)\\\n",
    "        .getOrCreate()\n",
    "\n",
    "# Задача 3.\n",
    "# Создайте dataframe из скачанного файла\n",
    "df = spark.read.option('header', 'true').csv('data/online_retail.csv')\n",
    "\n",
    "# Задача 4.\n",
    "# Подсчитайте следующие показатели\n",
    "# a. Количество строк в файле\n",
    "print(f'Количество строк в df: {df.count()}')\n",
    "\n",
    "# b. Количество уникальных клиентов\n",
    "print(f'Количество униклальных клиентов в df: {df.dropDuplicates([\"CustomerID\"]).count()}')\n",
    "\n",
    "# c.В какой стране совершается большинство покупок\n",
    "group_df = df.groupBy(\"Country\").count().orderBy(F.col(\"count\").desc()).limit(1).collect()\n",
    "print(f'Большинство покупок совершено в {group_df[0][0]} в количестве {group_df[0][1]} позиций')\n",
    "\n",
    "# d. Даты самой ранней и самой последней покупки на платформе\n",
    "df = df.withColumn(\"Date\", F.to_date(F.to_timestamp(\"InvoiceDate\")))\n",
    "print(f'Дата самой ранней покупки на платформе: {df.select(F.min(df.Date)).collect()[0][0]}')\n",
    "print(f'Дата самой последней покупки на платформе: {df.select(F.max(df.Date)).collect()[0][0]}')\n",
    "\n",
    "# Задача 5.\n",
    "# Проведите RFM-анализ клиентов платформы и запишите ID клиентов в отдельный CSV файл\n",
    "df.withColumn(\"SumOfSale\", F.col(\"Quantity\") * F.col(\"UnitPrice\"))\\\n",
    "    .filter(F.col(\"CustomerID\").isNotNull())\\\n",
    "    .groupBy(\"CustomerID\", \"InvoiceNo\", \"Date\").agg({\"SumOfSale\": \"sum\"})\\\n",
    "    .withColumnRenamed(\"sum(SumOfSale)\", \"SumOfSale\")\\\n",
    "    .groupBy(\"CustomerID\").agg(\n",
    "        F.count(F.col(\"InvoiceNo\")).alias(\"Frequency\"),\n",
    "        (F.current_date() - F.max(F.col(\"Date\"))).alias(\"Recency\"),\n",
    "        (F.sum(F.col(\"SumOfSale\")) / F.count(F.col(\"InvoiceNo\"))).alias(\"Monetary\")\n",
    "    )\\\n",
    "    .withColumn(\"CustomerID\", F.col(\"CustomerID\").cast(\"int\"))\\\n",
    "    .withColumn(\"Recency\", F.col(\"Recency\").cast(\"int\"))\\\n",
    "    .withColumn(\"Monetary\", F.round(F.col(\"Monetary\"), 2))\\\n",
    "    .withColumn(\"Frequency_abc\", F.when(F.col(\"Frequency\") <= 5, \"C\")\\\n",
    "                                .when(F.col(\"Frequency\") < 10, \"B\")\\\n",
    "                                .otherwise(\"A\"))\\\n",
    "    .withColumn(\"Recency_abc\", F.when(F.col(\"Recency\") <= 4300, \"C\")\\\n",
    "                                .when(F.col(\"Recency\") < 4400, \"B\")\\\n",
    "                                .otherwise(\"A\"))\\\n",
    "    .withColumn(\"Monetary_abc\", F.when(F.col(\"Monetary\") <= 0, \"C\")\\\n",
    "                                .when(F.col(\"Monetary\") < 200, \"B\")\\\n",
    "                                .otherwise(\"A\"))\\\n",
    "    .withColumn(\"ABC\", F.concat_ws(\n",
    "        \"\", F.col(\"Frequency_abc\"), F.col(\"Recency_abc\"), F.col(\"Monetary_abc\")))\\\n",
    "    .filter(F.col(\"ABC\") == \"AAA\").select(\"CustomerID\")\\\n",
    "    .write.csv(\"result/\", header=True, mode=\"overwrite\")\n",
    "print(\"RFM-анализ клиентов проведён, данные записаны в папку 'result'\")\n",
    "\n"
   ]
  },
  {
   "cell_type": "code",
   "execution_count": null,
   "id": "a955ec6f",
   "metadata": {},
   "outputs": [],
   "source": []
  }
 ],
 "metadata": {
  "kernelspec": {
   "display_name": "Python 3 (ipykernel)",
   "language": "python",
   "name": "python3"
  },
  "language_info": {
   "codemirror_mode": {
    "name": "ipython",
    "version": 3
   },
   "file_extension": ".py",
   "mimetype": "text/x-python",
   "name": "python",
   "nbconvert_exporter": "python",
   "pygments_lexer": "ipython3",
   "version": "3.11.3"
  }
 },
 "nbformat": 4,
 "nbformat_minor": 5
}
